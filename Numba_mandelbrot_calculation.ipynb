{
  "nbformat": 4,
  "nbformat_minor": 0,
  "metadata": {
    "colab": {
      "name": "Numba-mandelbrot-calculation.ipynb",
      "provenance": [],
      "collapsed_sections": [],
      "authorship_tag": "ABX9TyO4lp4PKtf1PHrWVUeOL8dm",
      "include_colab_link": true
    },
    "kernelspec": {
      "name": "python3",
      "display_name": "Python 3"
    },
    "language_info": {
      "name": "python"
    }
  },
  "cells": [
    {
      "cell_type": "markdown",
      "metadata": {
        "id": "view-in-github",
        "colab_type": "text"
      },
      "source": [
        "<a href=\"https://colab.research.google.com/github/bhaydon/cloud-data-analysis-mandelbrot/blob/main/Numba_mandelbrot_calculation.ipynb\" target=\"_parent\"><img src=\"https://colab.research.google.com/assets/colab-badge.svg\" alt=\"Open In Colab\"/></a>"
      ]
    },
    {
      "cell_type": "markdown",
      "source": [
        "## Bruce Haydon - New York/Toronto##\n",
        "*Machine Learning using Cloud Computing and Python"
      ],
      "metadata": {
        "id": "tCkYVnzC8Ann"
      }
    },
    {
      "cell_type": "markdown",
      "source": [
        "First step is to perform a <code> pip install </code>of the numba python library.  Next step is to ascertain where teh <code> .so </code> files are kept.  \n",
        "If <code> .so </code> are found, it's a high probability that CUDA is installed on the host environment."
      ],
      "metadata": {
        "id": "7EsUweJL7IER"
      }
    },
    {
      "cell_type": "code",
      "source": [
        "!pip install numba\n",
        "!find / -iname 'libdevice'\n",
        "!find / -iname 'libnvvm.so'\n"
      ],
      "metadata": {
        "colab": {
          "base_uri": "https://localhost:8080/"
        },
        "id": "wynqFIiR693J",
        "outputId": "bd3d94fb-7693-46d2-e531-ccb48e84dede"
      },
      "execution_count": 1,
      "outputs": [
        {
          "output_type": "stream",
          "name": "stdout",
          "text": [
            "Requirement already satisfied: numba in /usr/local/lib/python3.7/dist-packages (0.51.2)\n",
            "Requirement already satisfied: llvmlite<0.35,>=0.34.0.dev0 in /usr/local/lib/python3.7/dist-packages (from numba) (0.34.0)\n",
            "Requirement already satisfied: setuptools in /usr/local/lib/python3.7/dist-packages (from numba) (57.4.0)\n",
            "Requirement already satisfied: numpy>=1.15 in /usr/local/lib/python3.7/dist-packages (from numba) (1.21.6)\n",
            "/usr/local/lib/python3.7/dist-packages/jaxlib/cuda/nvvm/libdevice\n",
            "/usr/local/cuda-10.1/nvvm/libdevice\n",
            "/usr/local/cuda-10.0/nvvm/libdevice\n",
            "/usr/local/cuda-11.0/nvvm/libdevice\n",
            "/usr/local/cuda-11.1/nvvm/libdevice\n",
            "find: ‘/proc/28/task/28/net’: Invalid argument\n",
            "find: ‘/proc/28/net’: Invalid argument\n",
            "/usr/local/cuda-10.1/nvvm/lib64/libnvvm.so\n",
            "/usr/local/cuda-10.0/nvvm/lib64/libnvvm.so\n",
            "/usr/local/cuda-11.0/nvvm/lib64/libnvvm.so\n",
            "/usr/local/cuda-11.1/nvvm/lib64/libnvvm.so\n",
            "find: ‘/proc/28/task/28/net’: Invalid argument\n",
            "find: ‘/proc/28/net’: Invalid argument\n"
          ]
        }
      ]
    },
    {
      "cell_type": "markdown",
      "source": [
        "Install required python libraries"
      ],
      "metadata": {
        "id": "kRa5kcza8xf3"
      }
    },
    {
      "cell_type": "code",
      "source": [
        "%matplotlib inline\n",
        "from matplotlib import pyplot as pyp\n",
        "import numpy as np\n",
        "import math\n",
        "from numba import jit, njit, vectorize, cuda, uint32, f8, uint8\n",
        "from pylab import imshow, show\n",
        "from timeit import default_timer as timer\n",
        "\n"
      ],
      "metadata": {
        "id": "KwAHlck18tLU"
      },
      "execution_count": 5,
      "outputs": []
    }
  ]
}